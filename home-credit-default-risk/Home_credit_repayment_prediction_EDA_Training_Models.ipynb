{
  "cells": [
    {
      "cell_type": "markdown",
      "source": [
        "# Fitting Mulitple Classification models\n"
      ],
      "metadata": {
        "id": "ltMNVWZfGRPu"
      },
      "id": "ltMNVWZfGRPu"
    },
    {
      "cell_type": "code",
      "execution_count": null,
      "id": "0279b40d-a59d-499f-8b62-db68e539fed0",
      "metadata": {
        "id": "0279b40d-a59d-499f-8b62-db68e539fed0"
      },
      "outputs": [],
      "source": [
        "import numpy as np\n",
        "import pandas as pd\n",
        "import os\n",
        "import warnings\n",
        "warnings.filterwarnings('ignore')\n",
        "import matplotlib.pyplot as plt\n",
        "import seaborn as sns"
      ]
    },
    {
      "cell_type": "markdown",
      "id": "d3b5d840-fd84-47bc-91fb-8a50c7149a03",
      "metadata": {
        "id": "d3b5d840-fd84-47bc-91fb-8a50c7149a03"
      },
      "source": [
        "# Reading the dataset"
      ]
    },
    {
      "cell_type": "code",
      "execution_count": null,
      "id": "79935bee-62a9-4ebf-8707-f70a273cb019",
      "metadata": {
        "id": "79935bee-62a9-4ebf-8707-f70a273cb019",
        "outputId": "23732a0a-43e4-4613-f050-9ae3084edc11"
      },
      "outputs": [
        {
          "name": "stdout",
          "output_type": "stream",
          "text": [
            "Training data shape:  (307511, 122)\n"
          ]
        },
        {
          "data": {
            "text/html": [
              "<div>\n",
              "<style scoped>\n",
              "    .dataframe tbody tr th:only-of-type {\n",
              "        vertical-align: middle;\n",
              "    }\n",
              "\n",
              "    .dataframe tbody tr th {\n",
              "        vertical-align: top;\n",
              "    }\n",
              "\n",
              "    .dataframe thead th {\n",
              "        text-align: right;\n",
              "    }\n",
              "</style>\n",
              "<table border=\"1\" class=\"dataframe\">\n",
              "  <thead>\n",
              "    <tr style=\"text-align: right;\">\n",
              "      <th></th>\n",
              "      <th>SK_ID_CURR</th>\n",
              "      <th>TARGET</th>\n",
              "      <th>NAME_CONTRACT_TYPE</th>\n",
              "      <th>CODE_GENDER</th>\n",
              "      <th>FLAG_OWN_CAR</th>\n",
              "      <th>FLAG_OWN_REALTY</th>\n",
              "      <th>CNT_CHILDREN</th>\n",
              "      <th>AMT_INCOME_TOTAL</th>\n",
              "      <th>AMT_CREDIT</th>\n",
              "      <th>AMT_ANNUITY</th>\n",
              "      <th>...</th>\n",
              "      <th>FLAG_DOCUMENT_18</th>\n",
              "      <th>FLAG_DOCUMENT_19</th>\n",
              "      <th>FLAG_DOCUMENT_20</th>\n",
              "      <th>FLAG_DOCUMENT_21</th>\n",
              "      <th>AMT_REQ_CREDIT_BUREAU_HOUR</th>\n",
              "      <th>AMT_REQ_CREDIT_BUREAU_DAY</th>\n",
              "      <th>AMT_REQ_CREDIT_BUREAU_WEEK</th>\n",
              "      <th>AMT_REQ_CREDIT_BUREAU_MON</th>\n",
              "      <th>AMT_REQ_CREDIT_BUREAU_QRT</th>\n",
              "      <th>AMT_REQ_CREDIT_BUREAU_YEAR</th>\n",
              "    </tr>\n",
              "  </thead>\n",
              "  <tbody>\n",
              "    <tr>\n",
              "      <th>0</th>\n",
              "      <td>100002</td>\n",
              "      <td>1</td>\n",
              "      <td>Cash loans</td>\n",
              "      <td>M</td>\n",
              "      <td>N</td>\n",
              "      <td>Y</td>\n",
              "      <td>0</td>\n",
              "      <td>202500.0</td>\n",
              "      <td>406597.5</td>\n",
              "      <td>24700.5</td>\n",
              "      <td>...</td>\n",
              "      <td>0</td>\n",
              "      <td>0</td>\n",
              "      <td>0</td>\n",
              "      <td>0</td>\n",
              "      <td>0.0</td>\n",
              "      <td>0.0</td>\n",
              "      <td>0.0</td>\n",
              "      <td>0.0</td>\n",
              "      <td>0.0</td>\n",
              "      <td>1.0</td>\n",
              "    </tr>\n",
              "    <tr>\n",
              "      <th>1</th>\n",
              "      <td>100003</td>\n",
              "      <td>0</td>\n",
              "      <td>Cash loans</td>\n",
              "      <td>F</td>\n",
              "      <td>N</td>\n",
              "      <td>N</td>\n",
              "      <td>0</td>\n",
              "      <td>270000.0</td>\n",
              "      <td>1293502.5</td>\n",
              "      <td>35698.5</td>\n",
              "      <td>...</td>\n",
              "      <td>0</td>\n",
              "      <td>0</td>\n",
              "      <td>0</td>\n",
              "      <td>0</td>\n",
              "      <td>0.0</td>\n",
              "      <td>0.0</td>\n",
              "      <td>0.0</td>\n",
              "      <td>0.0</td>\n",
              "      <td>0.0</td>\n",
              "      <td>0.0</td>\n",
              "    </tr>\n",
              "    <tr>\n",
              "      <th>2</th>\n",
              "      <td>100004</td>\n",
              "      <td>0</td>\n",
              "      <td>Revolving loans</td>\n",
              "      <td>M</td>\n",
              "      <td>Y</td>\n",
              "      <td>Y</td>\n",
              "      <td>0</td>\n",
              "      <td>67500.0</td>\n",
              "      <td>135000.0</td>\n",
              "      <td>6750.0</td>\n",
              "      <td>...</td>\n",
              "      <td>0</td>\n",
              "      <td>0</td>\n",
              "      <td>0</td>\n",
              "      <td>0</td>\n",
              "      <td>0.0</td>\n",
              "      <td>0.0</td>\n",
              "      <td>0.0</td>\n",
              "      <td>0.0</td>\n",
              "      <td>0.0</td>\n",
              "      <td>0.0</td>\n",
              "    </tr>\n",
              "    <tr>\n",
              "      <th>3</th>\n",
              "      <td>100006</td>\n",
              "      <td>0</td>\n",
              "      <td>Cash loans</td>\n",
              "      <td>F</td>\n",
              "      <td>N</td>\n",
              "      <td>Y</td>\n",
              "      <td>0</td>\n",
              "      <td>135000.0</td>\n",
              "      <td>312682.5</td>\n",
              "      <td>29686.5</td>\n",
              "      <td>...</td>\n",
              "      <td>0</td>\n",
              "      <td>0</td>\n",
              "      <td>0</td>\n",
              "      <td>0</td>\n",
              "      <td>NaN</td>\n",
              "      <td>NaN</td>\n",
              "      <td>NaN</td>\n",
              "      <td>NaN</td>\n",
              "      <td>NaN</td>\n",
              "      <td>NaN</td>\n",
              "    </tr>\n",
              "    <tr>\n",
              "      <th>4</th>\n",
              "      <td>100007</td>\n",
              "      <td>0</td>\n",
              "      <td>Cash loans</td>\n",
              "      <td>M</td>\n",
              "      <td>N</td>\n",
              "      <td>Y</td>\n",
              "      <td>0</td>\n",
              "      <td>121500.0</td>\n",
              "      <td>513000.0</td>\n",
              "      <td>21865.5</td>\n",
              "      <td>...</td>\n",
              "      <td>0</td>\n",
              "      <td>0</td>\n",
              "      <td>0</td>\n",
              "      <td>0</td>\n",
              "      <td>0.0</td>\n",
              "      <td>0.0</td>\n",
              "      <td>0.0</td>\n",
              "      <td>0.0</td>\n",
              "      <td>0.0</td>\n",
              "      <td>0.0</td>\n",
              "    </tr>\n",
              "  </tbody>\n",
              "</table>\n",
              "<p>5 rows × 122 columns</p>\n",
              "</div>"
            ],
            "text/plain": [
              "   SK_ID_CURR  TARGET NAME_CONTRACT_TYPE CODE_GENDER FLAG_OWN_CAR  \\\n",
              "0      100002       1         Cash loans           M            N   \n",
              "1      100003       0         Cash loans           F            N   \n",
              "2      100004       0    Revolving loans           M            Y   \n",
              "3      100006       0         Cash loans           F            N   \n",
              "4      100007       0         Cash loans           M            N   \n",
              "\n",
              "  FLAG_OWN_REALTY  CNT_CHILDREN  AMT_INCOME_TOTAL  AMT_CREDIT  AMT_ANNUITY  \\\n",
              "0               Y             0          202500.0    406597.5      24700.5   \n",
              "1               N             0          270000.0   1293502.5      35698.5   \n",
              "2               Y             0           67500.0    135000.0       6750.0   \n",
              "3               Y             0          135000.0    312682.5      29686.5   \n",
              "4               Y             0          121500.0    513000.0      21865.5   \n",
              "\n",
              "   ...  FLAG_DOCUMENT_18 FLAG_DOCUMENT_19 FLAG_DOCUMENT_20 FLAG_DOCUMENT_21  \\\n",
              "0  ...                 0                0                0                0   \n",
              "1  ...                 0                0                0                0   \n",
              "2  ...                 0                0                0                0   \n",
              "3  ...                 0                0                0                0   \n",
              "4  ...                 0                0                0                0   \n",
              "\n",
              "  AMT_REQ_CREDIT_BUREAU_HOUR AMT_REQ_CREDIT_BUREAU_DAY  \\\n",
              "0                        0.0                       0.0   \n",
              "1                        0.0                       0.0   \n",
              "2                        0.0                       0.0   \n",
              "3                        NaN                       NaN   \n",
              "4                        0.0                       0.0   \n",
              "\n",
              "   AMT_REQ_CREDIT_BUREAU_WEEK  AMT_REQ_CREDIT_BUREAU_MON  \\\n",
              "0                         0.0                        0.0   \n",
              "1                         0.0                        0.0   \n",
              "2                         0.0                        0.0   \n",
              "3                         NaN                        NaN   \n",
              "4                         0.0                        0.0   \n",
              "\n",
              "   AMT_REQ_CREDIT_BUREAU_QRT  AMT_REQ_CREDIT_BUREAU_YEAR  \n",
              "0                        0.0                         1.0  \n",
              "1                        0.0                         0.0  \n",
              "2                        0.0                         0.0  \n",
              "3                        NaN                         NaN  \n",
              "4                        0.0                         0.0  \n",
              "\n",
              "[5 rows x 122 columns]"
            ]
          },
          "execution_count": 2,
          "metadata": {},
          "output_type": "execute_result"
        }
      ],
      "source": [
        "app_train = pd.read_csv('/Users/sami/Desktop/home-credit-default-risk/application_train.csv')\n",
        "print('Training data shape: ', app_train.shape)\n",
        "app_train.head()"
      ]
    },
    {
      "cell_type": "code",
      "execution_count": null,
      "id": "1d535fa0-b9bb-4ef3-9857-4840babdfc8e",
      "metadata": {
        "id": "1d535fa0-b9bb-4ef3-9857-4840babdfc8e",
        "outputId": "f2d1995e-e4e4-416c-92c7-3426b29f6654"
      },
      "outputs": [
        {
          "data": {
            "text/plain": [
              "SK_ID_CURR                      int64\n",
              "TARGET                          int64\n",
              "NAME_CONTRACT_TYPE             object\n",
              "CODE_GENDER                    object\n",
              "FLAG_OWN_CAR                   object\n",
              "                               ...   \n",
              "AMT_REQ_CREDIT_BUREAU_DAY     float64\n",
              "AMT_REQ_CREDIT_BUREAU_WEEK    float64\n",
              "AMT_REQ_CREDIT_BUREAU_MON     float64\n",
              "AMT_REQ_CREDIT_BUREAU_QRT     float64\n",
              "AMT_REQ_CREDIT_BUREAU_YEAR    float64\n",
              "Length: 122, dtype: object"
            ]
          },
          "execution_count": 3,
          "metadata": {},
          "output_type": "execute_result"
        }
      ],
      "source": [
        "app_train.dtypes"
      ]
    },
    {
      "cell_type": "code",
      "execution_count": null,
      "id": "6a580704-c006-491e-bfc1-584dccdaa24b",
      "metadata": {
        "id": "6a580704-c006-491e-bfc1-584dccdaa24b"
      },
      "outputs": [],
      "source": [
        "def missing_values_table(df):\n",
        "    mis_val = df.isnull().sum()\n",
        "    mis_val_percent = 100 * mis_val/ len(df)\n",
        "    mis_val_table = pd.concat([mis_val, mis_val_percent], axis=1)\n",
        "    mis_val_table_ren_columns = mis_val_table.rename(\n",
        "    columns = {0 : 'Missing Values', 1 : '% of Total Values'})\n",
        "    mis_val_table_ren_columns = mis_val_table_ren_columns[\n",
        "        mis_val_table_ren_columns.iloc[:,1] != 0].sort_values(\n",
        "    '% of Total Values', ascending=False).round(1)\n",
        "    print (\"Your selected dataframe has \" + str(df.shape[1]) + \" columns.\\n\"\n",
        "        \"There are \" + str(mis_val_table_ren_columns.shape[0]) +\" columns that have missing values.\")\n",
        "    return mis_val_table_ren_columns\n",
        "# function to check percentage of missing values in a column"
      ]
    },
    {
      "cell_type": "code",
      "execution_count": null,
      "id": "53f1fb5d-a580-4a27-aa7d-047bfbecb631",
      "metadata": {
        "id": "53f1fb5d-a580-4a27-aa7d-047bfbecb631",
        "outputId": "d904fd08-8e40-4858-a314-e5c6b60d3260"
      },
      "outputs": [
        {
          "name": "stdout",
          "output_type": "stream",
          "text": [
            "Your selected dataframe has 122 columns.\n",
            "There are 67 columns that have missing values.\n"
          ]
        },
        {
          "data": {
            "text/html": [
              "<div>\n",
              "<style scoped>\n",
              "    .dataframe tbody tr th:only-of-type {\n",
              "        vertical-align: middle;\n",
              "    }\n",
              "\n",
              "    .dataframe tbody tr th {\n",
              "        vertical-align: top;\n",
              "    }\n",
              "\n",
              "    .dataframe thead th {\n",
              "        text-align: right;\n",
              "    }\n",
              "</style>\n",
              "<table border=\"1\" class=\"dataframe\">\n",
              "  <thead>\n",
              "    <tr style=\"text-align: right;\">\n",
              "      <th></th>\n",
              "      <th>Missing Values</th>\n",
              "      <th>% of Total Values</th>\n",
              "    </tr>\n",
              "  </thead>\n",
              "  <tbody>\n",
              "    <tr>\n",
              "      <th>COMMONAREA_MEDI</th>\n",
              "      <td>214865</td>\n",
              "      <td>69.9</td>\n",
              "    </tr>\n",
              "    <tr>\n",
              "      <th>COMMONAREA_AVG</th>\n",
              "      <td>214865</td>\n",
              "      <td>69.9</td>\n",
              "    </tr>\n",
              "    <tr>\n",
              "      <th>COMMONAREA_MODE</th>\n",
              "      <td>214865</td>\n",
              "      <td>69.9</td>\n",
              "    </tr>\n",
              "    <tr>\n",
              "      <th>NONLIVINGAPARTMENTS_MEDI</th>\n",
              "      <td>213514</td>\n",
              "      <td>69.4</td>\n",
              "    </tr>\n",
              "    <tr>\n",
              "      <th>NONLIVINGAPARTMENTS_MODE</th>\n",
              "      <td>213514</td>\n",
              "      <td>69.4</td>\n",
              "    </tr>\n",
              "    <tr>\n",
              "      <th>...</th>\n",
              "      <td>...</td>\n",
              "      <td>...</td>\n",
              "    </tr>\n",
              "    <tr>\n",
              "      <th>EXT_SOURCE_2</th>\n",
              "      <td>660</td>\n",
              "      <td>0.2</td>\n",
              "    </tr>\n",
              "    <tr>\n",
              "      <th>AMT_GOODS_PRICE</th>\n",
              "      <td>278</td>\n",
              "      <td>0.1</td>\n",
              "    </tr>\n",
              "    <tr>\n",
              "      <th>AMT_ANNUITY</th>\n",
              "      <td>12</td>\n",
              "      <td>0.0</td>\n",
              "    </tr>\n",
              "    <tr>\n",
              "      <th>CNT_FAM_MEMBERS</th>\n",
              "      <td>2</td>\n",
              "      <td>0.0</td>\n",
              "    </tr>\n",
              "    <tr>\n",
              "      <th>DAYS_LAST_PHONE_CHANGE</th>\n",
              "      <td>1</td>\n",
              "      <td>0.0</td>\n",
              "    </tr>\n",
              "  </tbody>\n",
              "</table>\n",
              "<p>67 rows × 2 columns</p>\n",
              "</div>"
            ],
            "text/plain": [
              "                          Missing Values  % of Total Values\n",
              "COMMONAREA_MEDI                   214865               69.9\n",
              "COMMONAREA_AVG                    214865               69.9\n",
              "COMMONAREA_MODE                   214865               69.9\n",
              "NONLIVINGAPARTMENTS_MEDI          213514               69.4\n",
              "NONLIVINGAPARTMENTS_MODE          213514               69.4\n",
              "...                                  ...                ...\n",
              "EXT_SOURCE_2                         660                0.2\n",
              "AMT_GOODS_PRICE                      278                0.1\n",
              "AMT_ANNUITY                           12                0.0\n",
              "CNT_FAM_MEMBERS                        2                0.0\n",
              "DAYS_LAST_PHONE_CHANGE                 1                0.0\n",
              "\n",
              "[67 rows x 2 columns]"
            ]
          },
          "execution_count": 5,
          "metadata": {},
          "output_type": "execute_result"
        }
      ],
      "source": [
        "missing_values = missing_values_table(app_train)\n",
        "missing_values"
      ]
    },
    {
      "cell_type": "code",
      "execution_count": null,
      "id": "9f4e725b-3370-401d-8713-b34dee62a048",
      "metadata": {
        "id": "9f4e725b-3370-401d-8713-b34dee62a048",
        "outputId": "1ca35169-7157-4779-c20b-e89f0d37b349"
      },
      "outputs": [
        {
          "data": {
            "text/plain": [
              "float64    65\n",
              "int64      41\n",
              "object     16\n",
              "dtype: int64"
            ]
          },
          "execution_count": 6,
          "metadata": {},
          "output_type": "execute_result"
        }
      ],
      "source": [
        "app_train.dtypes.value_counts()"
      ]
    },
    {
      "cell_type": "code",
      "execution_count": null,
      "id": "498add1e-326e-4eaa-ac64-241d02de5da6",
      "metadata": {
        "id": "498add1e-326e-4eaa-ac64-241d02de5da6",
        "outputId": "3c345a97-c5d7-4367-eead-242c9ec8c496"
      },
      "outputs": [
        {
          "data": {
            "text/plain": [
              "NAME_CONTRACT_TYPE             2\n",
              "CODE_GENDER                    3\n",
              "FLAG_OWN_CAR                   2\n",
              "FLAG_OWN_REALTY                2\n",
              "NAME_TYPE_SUITE                7\n",
              "NAME_INCOME_TYPE               8\n",
              "NAME_EDUCATION_TYPE            5\n",
              "NAME_FAMILY_STATUS             6\n",
              "NAME_HOUSING_TYPE              6\n",
              "OCCUPATION_TYPE               18\n",
              "WEEKDAY_APPR_PROCESS_START     7\n",
              "ORGANIZATION_TYPE             58\n",
              "FONDKAPREMONT_MODE             4\n",
              "HOUSETYPE_MODE                 3\n",
              "WALLSMATERIAL_MODE             7\n",
              "EMERGENCYSTATE_MODE            2\n",
              "dtype: int64"
            ]
          },
          "execution_count": 7,
          "metadata": {},
          "output_type": "execute_result"
        }
      ],
      "source": [
        "app_train.select_dtypes('object').apply(pd.Series.nunique, axis = 0)"
      ]
    },
    {
      "cell_type": "code",
      "execution_count": null,
      "id": "673cf96a-83fa-41a8-922a-82595bafe6a4",
      "metadata": {
        "id": "673cf96a-83fa-41a8-922a-82595bafe6a4",
        "outputId": "c2e126cd-56bf-4f1b-be60-a74828a7fb05"
      },
      "outputs": [
        {
          "name": "stdout",
          "output_type": "stream",
          "text": [
            "3 columns were label encoded.\n"
          ]
        }
      ],
      "source": [
        "from sklearn.preprocessing import LabelEncoder\n",
        "le = LabelEncoder()\n",
        "le_count = 0\n",
        "for col in app_train:\n",
        "    if app_train[col].dtype == 'object':\n",
        "        if len(list(app_train[col].unique())) <= 2:\n",
        "            le.fit(app_train[col])\n",
        "            app_train[col] = le.transform(app_train[col])\n",
        "            le_count += 1\n",
        "print('%d columns were label encoded.' % le_count)\n",
        "# performing label encoding"
      ]
    },
    {
      "cell_type": "code",
      "execution_count": null,
      "id": "7ece1959-6369-4332-9742-3eec60f0c04f",
      "metadata": {
        "id": "7ece1959-6369-4332-9742-3eec60f0c04f",
        "outputId": "e8ce6a1d-3454-448b-c71c-8f8e623949e4"
      },
      "outputs": [
        {
          "name": "stdout",
          "output_type": "stream",
          "text": [
            "Training Features shape:  (307511, 243)\n"
          ]
        }
      ],
      "source": [
        "app_train = pd.get_dummies(app_train)\n",
        "print('Training Features shape: ', app_train.shape)\n",
        "# performing one hhot encoding on categorical data"
      ]
    },
    {
      "cell_type": "code",
      "execution_count": null,
      "id": "978070ef-7878-4b00-b3b8-f517156f3e76",
      "metadata": {
        "id": "978070ef-7878-4b00-b3b8-f517156f3e76",
        "outputId": "9b0a3cba-a855-4774-ac46-282f35254a43"
      },
      "outputs": [
        {
          "data": {
            "text/plain": [
              "count    307511.000000\n",
              "mean         43.936973\n",
              "std          11.956133\n",
              "min          20.517808\n",
              "25%          34.008219\n",
              "50%          43.150685\n",
              "75%          53.923288\n",
              "max          69.120548\n",
              "Name: DAYS_BIRTH, dtype: float64"
            ]
          },
          "execution_count": 10,
          "metadata": {},
          "output_type": "execute_result"
        }
      ],
      "source": [
        "(app_train['DAYS_BIRTH'] / -365).describe()"
      ]
    },
    {
      "cell_type": "code",
      "execution_count": null,
      "id": "49d18613-10e8-4749-9dff-0905265db0ed",
      "metadata": {
        "id": "49d18613-10e8-4749-9dff-0905265db0ed",
        "outputId": "b5658266-eded-4d4b-cc73-9c6e28522cf4"
      },
      "outputs": [
        {
          "data": {
            "text/plain": [
              "count    307511.000000\n",
              "mean      63815.045904\n",
              "std      141275.766519\n",
              "min      -17912.000000\n",
              "25%       -2760.000000\n",
              "50%       -1213.000000\n",
              "75%        -289.000000\n",
              "max      365243.000000\n",
              "Name: DAYS_EMPLOYED, dtype: float64"
            ]
          },
          "execution_count": 11,
          "metadata": {},
          "output_type": "execute_result"
        }
      ],
      "source": [
        "app_train['DAYS_EMPLOYED'].describe()"
      ]
    },
    {
      "cell_type": "code",
      "execution_count": null,
      "id": "978164b1-fc23-4b58-9280-44e85a3e2c8d",
      "metadata": {
        "id": "978164b1-fc23-4b58-9280-44e85a3e2c8d",
        "outputId": "edcb657f-1fb7-4065-86ae-999cb90e4046"
      },
      "outputs": [
        {
          "data": {
            "text/plain": [
              "Text(0.5, 0, 'Days Employment')"
            ]
          },
          "execution_count": 12,
          "metadata": {},
          "output_type": "execute_result"
        },
        {
          "data": {
            "image/png": "[encoded data removed]",
            "text/plain": [
              "<Figure size 432x288 with 1 Axes>"
            ]
          },
          "metadata": {
            "needs_background": "light"
          },
          "output_type": "display_data"
        }
      ],
      "source": [
        "app_train['DAYS_EMPLOYED'].plot.hist(title = 'Days Employment Histogram');\n",
        "plt.xlabel('Days Employment')"
      ]
    },
    {
      "cell_type": "code",
      "execution_count": null,
      "id": "62698ea8-e96e-4634-8f67-efea6dae98d9",
      "metadata": {
        "id": "62698ea8-e96e-4634-8f67-efea6dae98d9",
        "outputId": "ad0d3683-94e9-4cbb-a204-3ea14b55b8f7"
      },
      "outputs": [
        {
          "name": "stdout",
          "output_type": "stream",
          "text": [
            "The non-anomalies default on 8.66% of loans\n",
            "The anomalies default on 5.40% of loans\n",
            "There are 55374 anomalous days of employment\n"
          ]
        }
      ],
      "source": [
        "anom = app_train[app_train['DAYS_EMPLOYED'] == 365243]\n",
        "non_anom = app_train[app_train['DAYS_EMPLOYED'] != 365243]\n",
        "print('The non-anomalies default on %0.2f%% of loans' % (100 * non_anom['TARGET'].mean()))\n",
        "print('The anomalies default on %0.2f%% of loans' % (100 * anom['TARGET'].mean()))\n",
        "print('There are %d anomalous days of employment' % len(anom))\n",
        "# calculating percentage of anomalies"
      ]
    },
    {
      "cell_type": "code",
      "execution_count": null,
      "id": "f6057dd0-f41b-4793-8a5d-3b3922d56d33",
      "metadata": {
        "id": "f6057dd0-f41b-4793-8a5d-3b3922d56d33",
        "outputId": "b304cf36-e2f3-4905-ef35-05d6d1b761b7"
      },
      "outputs": [
        {
          "data": {
            "text/plain": [
              "Text(0.5, 0, 'Days Employment')"
            ]
          },
          "execution_count": 14,
          "metadata": {},
          "output_type": "execute_result"
        },
        {
          "data": {
            "image/png": "[encoded data removed]",
            "text/plain": [
              "<Figure size 432x288 with 1 Axes>"
            ]
          },
          "metadata": {
            "needs_background": "light"
          },
          "output_type": "display_data"
        }
      ],
      "source": [
        "app_train['DAYS_EMPLOYED_ANOM'] = app_train[\"DAYS_EMPLOYED\"] == 365243\n",
        "app_train['DAYS_EMPLOYED'].replace({365243: np.nan}, inplace = True)\n",
        "app_train['DAYS_EMPLOYED'].plot.hist(title = 'Days Employment Histogram')\n",
        "plt.xlabel('Days Employment')"
      ]
    },
    {
      "cell_type": "code",
      "execution_count": null,
      "id": "18ff13f5-ec8d-4737-8e88-94e8c6b51605",
      "metadata": {
        "id": "18ff13f5-ec8d-4737-8e88-94e8c6b51605",
        "outputId": "872aeccf-256d-4d19-e04c-f53978c2e095"
      },
      "outputs": [
        {
          "name": "stdout",
          "output_type": "stream",
          "text": [
            "Most Positive Correlations:\n",
            " OCCUPATION_TYPE_Laborers                             0.043019\n",
            "FLAG_DOCUMENT_3                                      0.044346\n",
            "REG_CITY_NOT_LIVE_CITY                               0.044395\n",
            "FLAG_EMP_PHONE                                       0.045982\n",
            "NAME_EDUCATION_TYPE_Secondary / secondary special    0.049824\n",
            "REG_CITY_NOT_WORK_CITY                               0.050994\n",
            "DAYS_ID_PUBLISH                                      0.051457\n",
            "CODE_GENDER_M                                        0.054713\n",
            "DAYS_LAST_PHONE_CHANGE                               0.055218\n",
            "NAME_INCOME_TYPE_Working                             0.057481\n",
            "REGION_RATING_CLIENT                                 0.058899\n",
            "REGION_RATING_CLIENT_W_CITY                          0.060893\n",
            "DAYS_EMPLOYED                                        0.074958\n",
            "DAYS_BIRTH                                           0.078239\n",
            "TARGET                                               1.000000\n",
            "Name: TARGET, dtype: float64\n",
            "\n",
            "Most Negative Correlations:\n",
            " EXT_SOURCE_3                           -0.178919\n",
            "EXT_SOURCE_2                           -0.160472\n",
            "EXT_SOURCE_1                           -0.155317\n",
            "NAME_EDUCATION_TYPE_Higher education   -0.056593\n",
            "CODE_GENDER_F                          -0.054704\n",
            "NAME_INCOME_TYPE_Pensioner             -0.046209\n",
            "DAYS_EMPLOYED_ANOM                     -0.045987\n",
            "ORGANIZATION_TYPE_XNA                  -0.045987\n",
            "FLOORSMAX_AVG                          -0.044003\n",
            "FLOORSMAX_MEDI                         -0.043768\n",
            "FLOORSMAX_MODE                         -0.043226\n",
            "EMERGENCYSTATE_MODE_No                 -0.042201\n",
            "HOUSETYPE_MODE_block of flats          -0.040594\n",
            "AMT_GOODS_PRICE                        -0.039645\n",
            "REGION_POPULATION_RELATIVE             -0.037227\n",
            "Name: TARGET, dtype: float64\n"
          ]
        }
      ],
      "source": [
        "correlations = app_train.corr()['TARGET'].sort_values()\n",
        "print('Most Positive Correlations:\\n', correlations.tail(15))\n",
        "print('\\nMost Negative Correlations:\\n', correlations.head(15))"
      ]
    },
    {
      "cell_type": "code",
      "execution_count": null,
      "id": "ab4034f0-b228-4191-a1de-c6ead4936590",
      "metadata": {
        "id": "ab4034f0-b228-4191-a1de-c6ead4936590",
        "outputId": "19dd2f1a-9c46-4400-9fa2-2e2ff6976f75"
      },
      "outputs": [
        {
          "data": {
            "text/plain": [
              "-0.07823930830982737"
            ]
          },
          "execution_count": 16,
          "metadata": {},
          "output_type": "execute_result"
        }
      ],
      "source": [
        "app_train['DAYS_BIRTH'] = abs(app_train['DAYS_BIRTH'])\n",
        "app_train['DAYS_BIRTH'].corr(app_train['TARGET'])"
      ]
    },
    {
      "cell_type": "code",
      "execution_count": null,
      "id": "e6dc94e0-b306-46e3-83dc-de4d5de5ac0c",
      "metadata": {
        "id": "e6dc94e0-b306-46e3-83dc-de4d5de5ac0c",
        "outputId": "9898c9b8-f904-42f5-8990-f0bc90748771"
      },
      "outputs": [
        {
          "data": {
            "text/plain": [
              "Text(0, 0.5, 'Count')"
            ]
          },
          "execution_count": 17,
          "metadata": {},
          "output_type": "execute_result"
        },
        {
          "data": {
            "image/png": "[encoded data removed]",
            "text/plain": [
              "<Figure size 432x288 with 1 Axes>"
            ]
          },
          "metadata": {},
          "output_type": "display_data"
        }
      ],
      "source": [
        "plt.style.use('fivethirtyeight')\n",
        "plt.hist(app_train['DAYS_BIRTH'] / 365, bins = 25)\n",
        "plt.title('Age of Client')\n",
        "plt.xlabel('Age (years)')\n",
        "plt.ylabel('Count')"
      ]
    },
    {
      "cell_type": "markdown",
      "id": "6af2736f-540b-4934-8ff4-e358d8f9fb0e",
      "metadata": {
        "id": "6af2736f-540b-4934-8ff4-e358d8f9fb0e"
      },
      "source": [
        "\n",
        "\n",
        "```\n",
        "# This is formatted as code\n",
        "```\n",
        "\n",
        "# LOGISTIC REGRESSION"
      ]
    },
    {
      "cell_type": "code",
      "execution_count": null,
      "id": "4caf1afd-3c24-4abd-a742-5fe98e2ec063",
      "metadata": {
        "id": "4caf1afd-3c24-4abd-a742-5fe98e2ec063"
      },
      "outputs": [],
      "source": [
        "from sklearn.linear_model import LogisticRegression"
      ]
    },
    {
      "cell_type": "code",
      "execution_count": null,
      "id": "f9784d00-d635-438f-a4e0-2b9fd7c5707f",
      "metadata": {
        "id": "f9784d00-d635-438f-a4e0-2b9fd7c5707f",
        "outputId": "ea0ae268-37fa-4cc2-a4d9-803fef273e70"
      },
      "outputs": [
        {
          "data": {
            "text/html": [
              "<div>\n",
              "<style scoped>\n",
              "    .dataframe tbody tr th:only-of-type {\n",
              "        vertical-align: middle;\n",
              "    }\n",
              "\n",
              "    .dataframe tbody tr th {\n",
              "        vertical-align: top;\n",
              "    }\n",
              "\n",
              "    .dataframe thead th {\n",
              "        text-align: right;\n",
              "    }\n",
              "</style>\n",
              "<table border=\"1\" class=\"dataframe\">\n",
              "  <thead>\n",
              "    <tr style=\"text-align: right;\">\n",
              "      <th></th>\n",
              "      <th>SK_ID_CURR</th>\n",
              "      <th>TARGET</th>\n",
              "      <th>NAME_CONTRACT_TYPE</th>\n",
              "      <th>FLAG_OWN_CAR</th>\n",
              "      <th>FLAG_OWN_REALTY</th>\n",
              "      <th>CNT_CHILDREN</th>\n",
              "      <th>AMT_INCOME_TOTAL</th>\n",
              "      <th>AMT_CREDIT</th>\n",
              "      <th>AMT_ANNUITY</th>\n",
              "      <th>AMT_GOODS_PRICE</th>\n",
              "      <th>...</th>\n",
              "      <th>WALLSMATERIAL_MODE_Block</th>\n",
              "      <th>WALLSMATERIAL_MODE_Mixed</th>\n",
              "      <th>WALLSMATERIAL_MODE_Monolithic</th>\n",
              "      <th>WALLSMATERIAL_MODE_Others</th>\n",
              "      <th>WALLSMATERIAL_MODE_Panel</th>\n",
              "      <th>WALLSMATERIAL_MODE_Stone, brick</th>\n",
              "      <th>WALLSMATERIAL_MODE_Wooden</th>\n",
              "      <th>EMERGENCYSTATE_MODE_No</th>\n",
              "      <th>EMERGENCYSTATE_MODE_Yes</th>\n",
              "      <th>DAYS_EMPLOYED_ANOM</th>\n",
              "    </tr>\n",
              "  </thead>\n",
              "  <tbody>\n",
              "    <tr>\n",
              "      <th>0</th>\n",
              "      <td>100002</td>\n",
              "      <td>1</td>\n",
              "      <td>0</td>\n",
              "      <td>0</td>\n",
              "      <td>1</td>\n",
              "      <td>0</td>\n",
              "      <td>202500.0</td>\n",
              "      <td>406597.5</td>\n",
              "      <td>24700.5</td>\n",
              "      <td>351000.0</td>\n",
              "      <td>...</td>\n",
              "      <td>0</td>\n",
              "      <td>0</td>\n",
              "      <td>0</td>\n",
              "      <td>0</td>\n",
              "      <td>0</td>\n",
              "      <td>1</td>\n",
              "      <td>0</td>\n",
              "      <td>1</td>\n",
              "      <td>0</td>\n",
              "      <td>False</td>\n",
              "    </tr>\n",
              "    <tr>\n",
              "      <th>1</th>\n",
              "      <td>100003</td>\n",
              "      <td>0</td>\n",
              "      <td>0</td>\n",
              "      <td>0</td>\n",
              "      <td>0</td>\n",
              "      <td>0</td>\n",
              "      <td>270000.0</td>\n",
              "      <td>1293502.5</td>\n",
              "      <td>35698.5</td>\n",
              "      <td>1129500.0</td>\n",
              "      <td>...</td>\n",
              "      <td>1</td>\n",
              "      <td>0</td>\n",
              "      <td>0</td>\n",
              "      <td>0</td>\n",
              "      <td>0</td>\n",
              "      <td>0</td>\n",
              "      <td>0</td>\n",
              "      <td>1</td>\n",
              "      <td>0</td>\n",
              "      <td>False</td>\n",
              "    </tr>\n",
              "    <tr>\n",
              "      <th>2</th>\n",
              "      <td>100004</td>\n",
              "      <td>0</td>\n",
              "      <td>1</td>\n",
              "      <td>1</td>\n",
              "      <td>1</td>\n",
              "      <td>0</td>\n",
              "      <td>67500.0</td>\n",
              "      <td>135000.0</td>\n",
              "      <td>6750.0</td>\n",
              "      <td>135000.0</td>\n",
              "      <td>...</td>\n",
              "      <td>0</td>\n",
              "      <td>0</td>\n",
              "      <td>0</td>\n",
              "      <td>0</td>\n",
              "      <td>0</td>\n",
              "      <td>0</td>\n",
              "      <td>0</td>\n",
              "      <td>0</td>\n",
              "      <td>0</td>\n",
              "      <td>False</td>\n",
              "    </tr>\n",
              "    <tr>\n",
              "      <th>3</th>\n",
              "      <td>100006</td>\n",
              "      <td>0</td>\n",
              "      <td>0</td>\n",
              "      <td>0</td>\n",
              "      <td>1</td>\n",
              "      <td>0</td>\n",
              "      <td>135000.0</td>\n",
              "      <td>312682.5</td>\n",
              "      <td>29686.5</td>\n",
              "      <td>297000.0</td>\n",
              "      <td>...</td>\n",
              "      <td>0</td>\n",
              "      <td>0</td>\n",
              "      <td>0</td>\n",
              "      <td>0</td>\n",
              "      <td>0</td>\n",
              "      <td>0</td>\n",
              "      <td>0</td>\n",
              "      <td>0</td>\n",
              "      <td>0</td>\n",
              "      <td>False</td>\n",
              "    </tr>\n",
              "    <tr>\n",
              "      <th>4</th>\n",
              "      <td>100007</td>\n",
              "      <td>0</td>\n",
              "      <td>0</td>\n",
              "      <td>0</td>\n",
              "      <td>1</td>\n",
              "      <td>0</td>\n",
              "      <td>121500.0</td>\n",
              "      <td>513000.0</td>\n",
              "      <td>21865.5</td>\n",
              "      <td>513000.0</td>\n",
              "      <td>...</td>\n",
              "      <td>0</td>\n",
              "      <td>0</td>\n",
              "      <td>0</td>\n",
              "      <td>0</td>\n",
              "      <td>0</td>\n",
              "      <td>0</td>\n",
              "      <td>0</td>\n",
              "      <td>0</td>\n",
              "      <td>0</td>\n",
              "      <td>False</td>\n",
              "    </tr>\n",
              "    <tr>\n",
              "      <th>...</th>\n",
              "      <td>...</td>\n",
              "      <td>...</td>\n",
              "      <td>...</td>\n",
              "      <td>...</td>\n",
              "      <td>...</td>\n",
              "      <td>...</td>\n",
              "      <td>...</td>\n",
              "      <td>...</td>\n",
              "      <td>...</td>\n",
              "      <td>...</td>\n",
              "      <td>...</td>\n",
              "      <td>...</td>\n",
              "      <td>...</td>\n",
              "      <td>...</td>\n",
              "      <td>...</td>\n",
              "      <td>...</td>\n",
              "      <td>...</td>\n",
              "      <td>...</td>\n",
              "      <td>...</td>\n",
              "      <td>...</td>\n",
              "      <td>...</td>\n",
              "    </tr>\n",
              "    <tr>\n",
              "      <th>307506</th>\n",
              "      <td>456251</td>\n",
              "      <td>0</td>\n",
              "      <td>0</td>\n",
              "      <td>0</td>\n",
              "      <td>0</td>\n",
              "      <td>0</td>\n",
              "      <td>157500.0</td>\n",
              "      <td>254700.0</td>\n",
              "      <td>27558.0</td>\n",
              "      <td>225000.0</td>\n",
              "      <td>...</td>\n",
              "      <td>0</td>\n",
              "      <td>0</td>\n",
              "      <td>0</td>\n",
              "      <td>0</td>\n",
              "      <td>0</td>\n",
              "      <td>1</td>\n",
              "      <td>0</td>\n",
              "      <td>1</td>\n",
              "      <td>0</td>\n",
              "      <td>False</td>\n",
              "    </tr>\n",
              "    <tr>\n",
              "      <th>307507</th>\n",
              "      <td>456252</td>\n",
              "      <td>0</td>\n",
              "      <td>0</td>\n",
              "      <td>0</td>\n",
              "      <td>1</td>\n",
              "      <td>0</td>\n",
              "      <td>72000.0</td>\n",
              "      <td>269550.0</td>\n",
              "      <td>12001.5</td>\n",
              "      <td>225000.0</td>\n",
              "      <td>...</td>\n",
              "      <td>0</td>\n",
              "      <td>0</td>\n",
              "      <td>0</td>\n",
              "      <td>0</td>\n",
              "      <td>0</td>\n",
              "      <td>1</td>\n",
              "      <td>0</td>\n",
              "      <td>1</td>\n",
              "      <td>0</td>\n",
              "      <td>True</td>\n",
              "    </tr>\n",
              "    <tr>\n",
              "      <th>307508</th>\n",
              "      <td>456253</td>\n",
              "      <td>0</td>\n",
              "      <td>0</td>\n",
              "      <td>0</td>\n",
              "      <td>1</td>\n",
              "      <td>0</td>\n",
              "      <td>153000.0</td>\n",
              "      <td>677664.0</td>\n",
              "      <td>29979.0</td>\n",
              "      <td>585000.0</td>\n",
              "      <td>...</td>\n",
              "      <td>0</td>\n",
              "      <td>0</td>\n",
              "      <td>0</td>\n",
              "      <td>0</td>\n",
              "      <td>1</td>\n",
              "      <td>0</td>\n",
              "      <td>0</td>\n",
              "      <td>1</td>\n",
              "      <td>0</td>\n",
              "      <td>False</td>\n",
              "    </tr>\n",
              "    <tr>\n",
              "      <th>307509</th>\n",
              "      <td>456254</td>\n",
              "      <td>1</td>\n",
              "      <td>0</td>\n",
              "      <td>0</td>\n",
              "      <td>1</td>\n",
              "      <td>0</td>\n",
              "      <td>171000.0</td>\n",
              "      <td>370107.0</td>\n",
              "      <td>20205.0</td>\n",
              "      <td>319500.0</td>\n",
              "      <td>...</td>\n",
              "      <td>0</td>\n",
              "      <td>0</td>\n",
              "      <td>0</td>\n",
              "      <td>0</td>\n",
              "      <td>0</td>\n",
              "      <td>1</td>\n",
              "      <td>0</td>\n",
              "      <td>1</td>\n",
              "      <td>0</td>\n",
              "      <td>False</td>\n",
              "    </tr>\n",
              "    <tr>\n",
              "      <th>307510</th>\n",
              "      <td>456255</td>\n",
              "      <td>0</td>\n",
              "      <td>0</td>\n",
              "      <td>0</td>\n",
              "      <td>0</td>\n",
              "      <td>0</td>\n",
              "      <td>157500.0</td>\n",
              "      <td>675000.0</td>\n",
              "      <td>49117.5</td>\n",
              "      <td>675000.0</td>\n",
              "      <td>...</td>\n",
              "      <td>0</td>\n",
              "      <td>0</td>\n",
              "      <td>0</td>\n",
              "      <td>0</td>\n",
              "      <td>1</td>\n",
              "      <td>0</td>\n",
              "      <td>0</td>\n",
              "      <td>1</td>\n",
              "      <td>0</td>\n",
              "      <td>False</td>\n",
              "    </tr>\n",
              "  </tbody>\n",
              "</table>\n",
              "<p>307511 rows × 244 columns</p>\n",
              "</div>"
            ],
            "text/plain": [
              "        SK_ID_CURR  TARGET  NAME_CONTRACT_TYPE  FLAG_OWN_CAR  FLAG_OWN_REALTY  \\\n",
              "0           100002       1                   0             0                1   \n",
              "1           100003       0                   0             0                0   \n",
              "2           100004       0                   1             1                1   \n",
              "3           100006       0                   0             0                1   \n",
              "4           100007       0                   0             0                1   \n",
              "...            ...     ...                 ...           ...              ...   \n",
              "307506      456251       0                   0             0                0   \n",
              "307507      456252       0                   0             0                1   \n",
              "307508      456253       0                   0             0                1   \n",
              "307509      456254       1                   0             0                1   \n",
              "307510      456255       0                   0             0                0   \n",
              "\n",
              "        CNT_CHILDREN  AMT_INCOME_TOTAL  AMT_CREDIT  AMT_ANNUITY  \\\n",
              "0                  0          202500.0    406597.5      24700.5   \n",
              "1                  0          270000.0   1293502.5      35698.5   \n",
              "2                  0           67500.0    135000.0       6750.0   \n",
              "3                  0          135000.0    312682.5      29686.5   \n",
              "4                  0          121500.0    513000.0      21865.5   \n",
              "...              ...               ...         ...          ...   \n",
              "307506             0          157500.0    254700.0      27558.0   \n",
              "307507             0           72000.0    269550.0      12001.5   \n",
              "307508             0          153000.0    677664.0      29979.0   \n",
              "307509             0          171000.0    370107.0      20205.0   \n",
              "307510             0          157500.0    675000.0      49117.5   \n",
              "\n",
              "        AMT_GOODS_PRICE  ...  WALLSMATERIAL_MODE_Block  \\\n",
              "0              351000.0  ...                         0   \n",
              "1             1129500.0  ...                         1   \n",
              "2              135000.0  ...                         0   \n",
              "3              297000.0  ...                         0   \n",
              "4              513000.0  ...                         0   \n",
              "...                 ...  ...                       ...   \n",
              "307506         225000.0  ...                         0   \n",
              "307507         225000.0  ...                         0   \n",
              "307508         585000.0  ...                         0   \n",
              "307509         319500.0  ...                         0   \n",
              "307510         675000.0  ...                         0   \n",
              "\n",
              "        WALLSMATERIAL_MODE_Mixed  WALLSMATERIAL_MODE_Monolithic  \\\n",
              "0                              0                              0   \n",
              "1                              0                              0   \n",
              "2                              0                              0   \n",
              "3                              0                              0   \n",
              "4                              0                              0   \n",
              "...                          ...                            ...   \n",
              "307506                         0                              0   \n",
              "307507                         0                              0   \n",
              "307508                         0                              0   \n",
              "307509                         0                              0   \n",
              "307510                         0                              0   \n",
              "\n",
              "        WALLSMATERIAL_MODE_Others  WALLSMATERIAL_MODE_Panel  \\\n",
              "0                               0                         0   \n",
              "1                               0                         0   \n",
              "2                               0                         0   \n",
              "3                               0                         0   \n",
              "4                               0                         0   \n",
              "...                           ...                       ...   \n",
              "307506                          0                         0   \n",
              "307507                          0                         0   \n",
              "307508                          0                         1   \n",
              "307509                          0                         0   \n",
              "307510                          0                         1   \n",
              "\n",
              "        WALLSMATERIAL_MODE_Stone, brick  WALLSMATERIAL_MODE_Wooden  \\\n",
              "0                                     1                          0   \n",
              "1                                     0                          0   \n",
              "2                                     0                          0   \n",
              "3                                     0                          0   \n",
              "4                                     0                          0   \n",
              "...                                 ...                        ...   \n",
              "307506                                1                          0   \n",
              "307507                                1                          0   \n",
              "307508                                0                          0   \n",
              "307509                                1                          0   \n",
              "307510                                0                          0   \n",
              "\n",
              "        EMERGENCYSTATE_MODE_No  EMERGENCYSTATE_MODE_Yes  DAYS_EMPLOYED_ANOM  \n",
              "0                            1                        0               False  \n",
              "1                            1                        0               False  \n",
              "2                            0                        0               False  \n",
              "3                            0                        0               False  \n",
              "4                            0                        0               False  \n",
              "...                        ...                      ...                 ...  \n",
              "307506                       1                        0               False  \n",
              "307507                       1                        0                True  \n",
              "307508                       1                        0               False  \n",
              "307509                       1                        0               False  \n",
              "307510                       1                        0               False  \n",
              "\n",
              "[307511 rows x 244 columns]"
            ]
          },
          "execution_count": 19,
          "metadata": {},
          "output_type": "execute_result"
        }
      ],
      "source": [
        "app_train"
      ]
    },
    {
      "cell_type": "code",
      "execution_count": null,
      "id": "6762a369-0597-4bdb-a05f-a498bf51b735",
      "metadata": {
        "id": "6762a369-0597-4bdb-a05f-a498bf51b735",
        "outputId": "394fa5c3-316b-450f-d23e-dd072062a4ef"
      },
      "outputs": [
        {
          "data": {
            "text/plain": [
              "SK_ID_CURR                         int64\n",
              "TARGET                             int64\n",
              "NAME_CONTRACT_TYPE                 int64\n",
              "FLAG_OWN_CAR                       int64\n",
              "FLAG_OWN_REALTY                    int64\n",
              "                                   ...  \n",
              "WALLSMATERIAL_MODE_Stone, brick    uint8\n",
              "WALLSMATERIAL_MODE_Wooden          uint8\n",
              "EMERGENCYSTATE_MODE_No             uint8\n",
              "EMERGENCYSTATE_MODE_Yes            uint8\n",
              "DAYS_EMPLOYED_ANOM                  bool\n",
              "Length: 244, dtype: object"
            ]
          },
          "execution_count": 20,
          "metadata": {},
          "output_type": "execute_result"
        }
      ],
      "source": [
        "app_train.dtypes"
      ]
    },
    {
      "cell_type": "code",
      "execution_count": null,
      "id": "c77e6661-decb-40df-b805-baf999df5118",
      "metadata": {
        "id": "c77e6661-decb-40df-b805-baf999df5118"
      },
      "outputs": [],
      "source": [
        "x = app_train.copy()\n",
        "y = x.TARGET\n",
        "x = x.drop(['TARGET'],axis=1)"
      ]
    },
    {
      "cell_type": "code",
      "execution_count": null,
      "id": "9a4d60fb-020c-4fdf-a1a5-42c7b5755fd9",
      "metadata": {
        "id": "9a4d60fb-020c-4fdf-a1a5-42c7b5755fd9"
      },
      "outputs": [],
      "source": [
        "from sklearn.impute import SimpleImputer\n",
        "from sklearn.preprocessing import MinMaxScaler\n",
        "imputer = SimpleImputer(missing_values=np.nan, strategy='median')   # MEDIAN STRATEGY to fill null values\n",
        "scaler = MinMaxScaler(feature_range = (0, 1))\n",
        "imputer.fit(x)\n",
        "x = imputer.transform(x)\n",
        "scaler.fit(x)\n",
        "x = scaler.transform(x)"
      ]
    },
    {
      "cell_type": "code",
      "execution_count": null,
      "id": "524732a8-f3c3-4dd4-8b87-1c3ff83f84f9",
      "metadata": {
        "id": "524732a8-f3c3-4dd4-8b87-1c3ff83f84f9"
      },
      "outputs": [],
      "source": [
        "from sklearn.model_selection import train_test_split\n",
        "x_train,x_test,y_train,y_test = train_test_split(x,y,test_size=0.25,random_state=16)  # followed 75-25 split\n",
        "from sklearn.linear_model import LogisticRegression\n",
        "lr = LogisticRegression(random_state=15)\n",
        "lr.fit(x_train,y_train)\n",
        "y_pred = lr.predict(x_test)"
      ]
    },
    {
      "cell_type": "code",
      "execution_count": null,
      "id": "cb523913-c387-49ca-833c-167ebcbcdaa6",
      "metadata": {
        "id": "cb523913-c387-49ca-833c-167ebcbcdaa6",
        "outputId": "d08daa4d-d958-4519-901f-640c21628632"
      },
      "outputs": [
        {
          "data": {
            "text/plain": [
              "array([[70657,    84],\n",
              "       [ 6074,    63]])"
            ]
          },
          "execution_count": 24,
          "metadata": {},
          "output_type": "execute_result"
        }
      ],
      "source": [
        "from sklearn import metrics\n",
        "cnf_matrix = metrics.confusion_matrix(y_test, y_pred)\n",
        "cnf_matrix"
      ]
    },
    {
      "cell_type": "code",
      "execution_count": null,
      "id": "742723a6-df8e-40ce-9530-e80bbf358623",
      "metadata": {
        "id": "742723a6-df8e-40ce-9530-e80bbf358623",
        "outputId": "9a54f442-466d-4518-cf51-a4a1a88d0496"
      },
      "outputs": [
        {
          "name": "stdout",
          "output_type": "stream",
          "text": [
            "              precision    recall  f1-score   support\n",
            "\n",
            "   can_repay       0.92      1.00      0.96     70741\n",
            "cannot_repay       0.43      0.01      0.02      6137\n",
            "\n",
            "    accuracy                           0.92     76878\n",
            "   macro avg       0.67      0.50      0.49     76878\n",
            "weighted avg       0.88      0.92      0.88     76878\n",
            "\n"
          ]
        }
      ],
      "source": [
        "from sklearn.metrics import classification_report\n",
        "target_names = ['can_repay', 'cannot_repay']\n",
        "print(classification_report(y_test, y_pred, target_names=target_names))"
      ]
    },
    {
      "cell_type": "code",
      "execution_count": null,
      "id": "fef56636-6d04-4fe6-878c-370e05873730",
      "metadata": {
        "id": "fef56636-6d04-4fe6-878c-370e05873730",
        "outputId": "d11399af-a504-4e14-b2ea-4c30ab07b563"
      },
      "outputs": [
        {
          "data": {
            "text/plain": [
              "0.9198990608496579"
            ]
          },
          "execution_count": 26,
          "metadata": {},
          "output_type": "execute_result"
        }
      ],
      "source": [
        "acc_lr = metrics.accuracy_score(y_test,y_pred)\n",
        "acc_lr"
      ]
    },
    {
      "cell_type": "code",
      "execution_count": null,
      "id": "c94ec2de-9215-441b-9ef4-4f6a95f6d65c",
      "metadata": {
        "id": "c94ec2de-9215-441b-9ef4-4f6a95f6d65c",
        "outputId": "476334c9-5c92-4f10-e7e7-a7d1e89e8f9b"
      },
      "outputs": [
        {
          "data": {
            "text/plain": [
              "<AxesSubplot: >"
            ]
          },
          "execution_count": 27,
          "metadata": {},
          "output_type": "execute_result"
        },
        {
          "data": {
            "image/png": "[encoded data removed]",
            "text/plain": [
              "<Figure size 432x288 with 2 Axes>"
            ]
          },
          "metadata": {},
          "output_type": "display_data"
        }
      ],
      "source": [
        "import seaborn as sns\n",
        "sns.heatmap(cnf_matrix,annot = True,fmt='g')\n"
      ]
    },
    {
      "cell_type": "code",
      "execution_count": null,
      "id": "7821b07e-574c-4d8a-b851-45666d62f880",
      "metadata": {
        "id": "7821b07e-574c-4d8a-b851-45666d62f880",
        "outputId": "f8fd952e-b688-4dca-e098-47a550ea5de6"
      },
      "outputs": [
        {
          "data": {
            "image/png": "[encoded data removed]",
            "text/plain": [
              "<Figure size 432x288 with 1 Axes>"
            ]
          },
          "metadata": {},
          "output_type": "display_data"
        }
      ],
      "source": [
        "y_pred_proba_lr = lr.predict_proba(x_test)[::,1]\n",
        "fpr, tpr, _ = metrics.roc_curve(y_test,  y_pred_proba_lr)\n",
        "plt.plot(fpr,tpr)\n",
        "plt.ylabel('True Positive Rate')\n",
        "plt.xlabel('False Positive Rate')\n",
        "plt.legend('ROC curve for logistic regression',loc = 'upper left')\n",
        "plt.show()"
      ]
    },
    {
      "cell_type": "markdown",
      "id": "43ebb150-50f6-463d-8624-c66dcf5db784",
      "metadata": {
        "id": "43ebb150-50f6-463d-8624-c66dcf5db784"
      },
      "source": [
        "# Decision Tree"
      ]
    },
    {
      "cell_type": "code",
      "execution_count": null,
      "id": "fc408dc9-43d7-4ea0-b4a0-4f07ca4be8e0",
      "metadata": {
        "id": "fc408dc9-43d7-4ea0-b4a0-4f07ca4be8e0"
      },
      "outputs": [],
      "source": [
        "x = app_train.copy()\n",
        "y = x.TARGET\n",
        "x = x.drop(['TARGET'],axis=1)\n",
        "feature_names = x.columns\n",
        "labels = y.unique()\n",
        "from sklearn.impute import SimpleImputer\n",
        "from sklearn.preprocessing import MinMaxScaler\n",
        "imputer = SimpleImputer(missing_values=np.nan, strategy='median')\n",
        "scaler = MinMaxScaler(feature_range = (0, 1))\n",
        "imputer.fit(x)\n",
        "x = imputer.transform(x)\n",
        "scaler.fit(x)\n",
        "x = scaler.transform(x)"
      ]
    },
    {
      "cell_type": "code",
      "execution_count": null,
      "id": "86161d57-8195-4c66-8849-8284d7828f45",
      "metadata": {
        "id": "86161d57-8195-4c66-8849-8284d7828f45"
      },
      "outputs": [],
      "source": [
        "from sklearn.model_selection import train_test_split\n",
        "x_train,x_test,y_train,y_test = train_test_split(x,y,test_size=0.25,random_state=16)"
      ]
    },
    {
      "cell_type": "code",
      "execution_count": null,
      "id": "b81fe6e8-4562-46c0-a0b2-0361bcf06a62",
      "metadata": {
        "id": "b81fe6e8-4562-46c0-a0b2-0361bcf06a62",
        "outputId": "f297b811-fe39-44d3-cb4a-434f219181db"
      },
      "outputs": [
        {
          "data": {
            "text/plain": [
              "DecisionTreeClassifier(random_state=42)"
            ]
          },
          "execution_count": 33,
          "metadata": {},
          "output_type": "execute_result"
        }
      ],
      "source": [
        "from sklearn.tree import DecisionTreeClassifier\n",
        "classifier = DecisionTreeClassifier(random_state=42)\n",
        "classifier.fit(x_train,y_train)"
      ]
    },
    {
      "cell_type": "code",
      "execution_count": null,
      "id": "86f0a271-2a07-4f76-8bf1-6727e80aab1d",
      "metadata": {
        "id": "86f0a271-2a07-4f76-8bf1-6727e80aab1d"
      },
      "outputs": [],
      "source": [
        "from sklearn.tree import export_text\n",
        "tree_rules = export_text(classifier,feature_names = list(feature_names))\n",
        "#print(tree_rules)"
      ]
    },
    {
      "cell_type": "code",
      "execution_count": null,
      "id": "016b5c59-08f2-44ac-98d7-0611a8d6cdb1",
      "metadata": {
        "id": "016b5c59-08f2-44ac-98d7-0611a8d6cdb1"
      },
      "outputs": [],
      "source": [
        "y_pred_dt = classifier.predict(x_test)"
      ]
    },
    {
      "cell_type": "code",
      "execution_count": null,
      "id": "415b136f-3eb3-4466-867f-81d93203f056",
      "metadata": {
        "id": "415b136f-3eb3-4466-867f-81d93203f056",
        "outputId": "d97eef38-7e15-4642-d0c0-91a237bef154"
      },
      "outputs": [
        {
          "data": {
            "text/plain": [
              "array([[64591,  6150],\n",
              "       [ 5085,  1052]])"
            ]
          },
          "execution_count": 36,
          "metadata": {},
          "output_type": "execute_result"
        }
      ],
      "source": [
        "cnfmx_dt = metrics.confusion_matrix(y_test,y_pred_dt)\n",
        "cnfmx_dt"
      ]
    },
    {
      "cell_type": "code",
      "execution_count": null,
      "id": "85f778db-3bab-40c0-b5f2-41b33fe5acb9",
      "metadata": {
        "id": "85f778db-3bab-40c0-b5f2-41b33fe5acb9",
        "outputId": "1ebc3d23-9fcf-4deb-839a-de1b14bb8ea0"
      },
      "outputs": [
        {
          "data": {
            "text/plain": [
              "0.8538593615858894"
            ]
          },
          "execution_count": 37,
          "metadata": {},
          "output_type": "execute_result"
        }
      ],
      "source": [
        "acc_dt = metrics.accuracy_score(y_test,y_pred_dt)\n",
        "acc_dt"
      ]
    },
    {
      "cell_type": "code",
      "execution_count": null,
      "id": "505cd000-2626-4ee3-9ca1-ed4ae03bcdb0",
      "metadata": {
        "id": "505cd000-2626-4ee3-9ca1-ed4ae03bcdb0",
        "outputId": "888cab5f-a44c-401c-fc47-995119a80a88"
      },
      "outputs": [
        {
          "data": {
            "text/plain": [
              "<AxesSubplot: >"
            ]
          },
          "execution_count": 38,
          "metadata": {},
          "output_type": "execute_result"
        },
        {
          "data": {
            "image/png": "[encoded data removed]",
            "text/plain": [
              "<Figure size 432x288 with 2 Axes>"
            ]
          },
          "metadata": {},
          "output_type": "display_data"
        }
      ],
      "source": [
        "sns.heatmap(cnfmx_dt,annot = True, fmt = 'g' )"
      ]
    },
    {
      "cell_type": "code",
      "execution_count": null,
      "id": "89cfbc01-29a8-4488-9695-d61a462601ae",
      "metadata": {
        "id": "89cfbc01-29a8-4488-9695-d61a462601ae",
        "outputId": "e019c8d8-8640-4c7d-9353-df29b566729f"
      },
      "outputs": [
        {
          "name": "stdout",
          "output_type": "stream",
          "text": [
            "              precision    recall  f1-score   support\n",
            "\n",
            "   can_repay       0.93      0.91      0.92     70741\n",
            "cannot_repay       0.15      0.17      0.16      6137\n",
            "\n",
            "    accuracy                           0.85     76878\n",
            "   macro avg       0.54      0.54      0.54     76878\n",
            "weighted avg       0.86      0.85      0.86     76878\n",
            "\n"
          ]
        }
      ],
      "source": [
        "from sklearn.metrics import classification_report\n",
        "target_names = ['can_repay', 'cannot_repay']\n",
        "print(classification_report(y_test, y_pred_dt, target_names=target_names))"
      ]
    },
    {
      "cell_type": "code",
      "execution_count": null,
      "id": "8f95acf3-45d1-4d43-8b52-0c1ce04b2491",
      "metadata": {
        "id": "8f95acf3-45d1-4d43-8b52-0c1ce04b2491",
        "outputId": "c4248f52-1d87-4065-9179-4aedb5b2f5e8"
      },
      "outputs": [
        {
          "data": {
            "image/png": "[encoded data removed]",
            "text/plain": [
              "<Figure size 360x360 with 1 Axes>"
            ]
          },
          "metadata": {},
          "output_type": "display_data"
        }
      ],
      "source": [
        "y_pred_proba_dt = classifier.predict_proba(x_test)[::,1]\n",
        "fpr, tpr, _ = metrics.roc_curve(y_test,  y_pred_proba_dt)\n",
        "plt.figure(figsize=(5,5))\n",
        "plt.plot(fpr,tpr)\n",
        "plt.ylabel('True Positive Rate')\n",
        "plt.xlabel('False Positive Rate')\n",
        "plt.legend('ROC curve for Decision Trees')\n",
        "plt.show()"
      ]
    },
    {
      "cell_type": "markdown",
      "id": "970251a9-0141-438b-80a3-10ec7cb5f71d",
      "metadata": {
        "id": "970251a9-0141-438b-80a3-10ec7cb5f71d"
      },
      "source": [
        "# Random Forest"
      ]
    },
    {
      "cell_type": "code",
      "execution_count": null,
      "id": "eafd762c-16cc-4dc7-bd77-3150a12b2f3f",
      "metadata": {
        "id": "eafd762c-16cc-4dc7-bd77-3150a12b2f3f",
        "outputId": "86c02a9e-ccef-4919-8e8d-b58425784901"
      },
      "outputs": [
        {
          "name": "stdout",
          "output_type": "stream",
          "text": [
            "Requirement already satisfied: graphviz in ./opt/anaconda3/lib/python3.9/site-packages (0.20.1)\n",
            "Note: you may need to restart the kernel to use updated packages.\n"
          ]
        }
      ],
      "source": [
        "pip install graphviz"
      ]
    },
    {
      "cell_type": "code",
      "execution_count": null,
      "id": "ab744451-1163-4117-947f-93c859479084",
      "metadata": {
        "id": "ab744451-1163-4117-947f-93c859479084"
      },
      "outputs": [],
      "source": [
        "import graphviz"
      ]
    },
    {
      "cell_type": "code",
      "execution_count": null,
      "id": "3472014f-c27c-4e69-b6f9-ad27154cb565",
      "metadata": {
        "id": "3472014f-c27c-4e69-b6f9-ad27154cb565"
      },
      "outputs": [],
      "source": [
        "x = app_train.copy()\n",
        "y = x.TARGET\n",
        "x = x.drop(['TARGET'],axis=1)\n",
        "feature_names = x.columns\n",
        "labels = y.unique()\n",
        "from sklearn.impute import SimpleImputer\n",
        "from sklearn.preprocessing import MinMaxScaler\n",
        "imputer = SimpleImputer(missing_values=np.nan, strategy='median')\n",
        "scaler = MinMaxScaler(feature_range = (0, 1))\n",
        "imputer.fit(x)\n",
        "x = imputer.transform(x)\n",
        "scaler.fit(x)\n",
        "x = scaler.transform(x)\n",
        "from sklearn.model_selection import train_test_split\n",
        "x_train,x_test,y_train,y_test = train_test_split(x,y,test_size=0.25,random_state=16)"
      ]
    },
    {
      "cell_type": "code",
      "execution_count": null,
      "id": "29724a40-38b0-4d27-a382-cc2a4a6f0514",
      "metadata": {
        "id": "29724a40-38b0-4d27-a382-cc2a4a6f0514",
        "outputId": "3ee4bc36-78b2-449b-e718-ed1f0bef497f"
      },
      "outputs": [
        {
          "data": {
            "text/plain": [
              "RandomForestClassifier()"
            ]
          },
          "execution_count": 44,
          "metadata": {},
          "output_type": "execute_result"
        }
      ],
      "source": [
        "from sklearn.ensemble import RandomForestClassifier\n",
        "rf = RandomForestClassifier()\n",
        "rf.fit(x_train,y_train)"
      ]
    },
    {
      "cell_type": "code",
      "execution_count": null,
      "id": "f5f41cae-6060-4161-ab2b-4fd2a6b80d12",
      "metadata": {
        "id": "f5f41cae-6060-4161-ab2b-4fd2a6b80d12"
      },
      "outputs": [],
      "source": [
        "y_pred_rf = rf.predict(x_test)"
      ]
    },
    {
      "cell_type": "code",
      "execution_count": null,
      "id": "97292371-b7f1-444f-873a-404570cc6fd3",
      "metadata": {
        "id": "97292371-b7f1-444f-873a-404570cc6fd3",
        "outputId": "85bae4d6-7ee4-4414-8d8f-0415aa41982d"
      },
      "outputs": [
        {
          "data": {
            "text/plain": [
              "0.920224251411327"
            ]
          },
          "execution_count": 46,
          "metadata": {},
          "output_type": "execute_result"
        }
      ],
      "source": [
        "acc_rf = metrics.accuracy_score(y_test,y_pred_rf)\n",
        "acc_rf"
      ]
    },
    {
      "cell_type": "code",
      "execution_count": null,
      "id": "d0846f60-8b44-4481-a730-64f9fb7c5902",
      "metadata": {
        "id": "d0846f60-8b44-4481-a730-64f9fb7c5902",
        "outputId": "5f9e982c-4c45-41f3-e054-a06e736f539f"
      },
      "outputs": [
        {
          "name": "stdout",
          "output_type": "stream",
          "text": [
            "              precision    recall  f1-score   support\n",
            "\n",
            "   can_repay       0.92      1.00      0.96     70741\n",
            "cannot_repay       0.70      0.00      0.00      6137\n",
            "\n",
            "    accuracy                           0.92     76878\n",
            "   macro avg       0.81      0.50      0.48     76878\n",
            "weighted avg       0.90      0.92      0.88     76878\n",
            "\n"
          ]
        }
      ],
      "source": [
        "from sklearn.metrics import classification_report\n",
        "target_names = ['can_repay', 'cannot_repay']\n",
        "print(classification_report(y_test, y_pred_rf, target_names=target_names))"
      ]
    },
    {
      "cell_type": "code",
      "execution_count": null,
      "id": "c5b0d10f-6239-40c1-be4f-d432137df268",
      "metadata": {
        "id": "c5b0d10f-6239-40c1-be4f-d432137df268",
        "outputId": "9f027e0d-2256-41e4-bec1-2823c73a3104"
      },
      "outputs": [
        {
          "data": {
            "text/plain": [
              "array([[70738,     3],\n",
              "       [ 6130,     7]])"
            ]
          },
          "execution_count": 48,
          "metadata": {},
          "output_type": "execute_result"
        }
      ],
      "source": [
        "cnfmx_rf = metrics.confusion_matrix(y_test,y_pred_rf)\n",
        "cnfmx_rf"
      ]
    },
    {
      "cell_type": "code",
      "execution_count": null,
      "id": "d431fa3f-3f1f-40a6-966f-e9761b4f6e13",
      "metadata": {
        "id": "d431fa3f-3f1f-40a6-966f-e9761b4f6e13",
        "outputId": "eff9b291-c921-4cd8-d048-c77dd5bed5f3"
      },
      "outputs": [
        {
          "data": {
            "text/plain": [
              "<AxesSubplot: >"
            ]
          },
          "execution_count": 49,
          "metadata": {},
          "output_type": "execute_result"
        },
        {
          "data": {
            "image/png": "[encoded data removed]",
            "text/plain": [
              "<Figure size 432x288 with 2 Axes>"
            ]
          },
          "metadata": {},
          "output_type": "display_data"
        }
      ],
      "source": [
        "sns.heatmap(cnfmx_rf,annot = True, fmt = 'g' )"
      ]
    },
    {
      "cell_type": "code",
      "execution_count": null,
      "id": "04779902-a5cf-47a7-b5f6-51d7ce2fac32",
      "metadata": {
        "id": "04779902-a5cf-47a7-b5f6-51d7ce2fac32",
        "outputId": "a03dd882-8e25-4add-9b2d-2241cf09dffd"
      },
      "outputs": [
        {
          "data": {
            "image/png": "[encoded data removed]",
            "text/plain": [
              "<Figure size 432x288 with 1 Axes>"
            ]
          },
          "metadata": {},
          "output_type": "display_data"
        }
      ],
      "source": [
        "y_pred_proba_rf = rf.predict_proba(x_test)[::,1]\n",
        "fpr, tpr, _ = metrics.roc_curve(y_test,  y_pred_proba_rf)\n",
        "plt.plot(fpr,tpr)\n",
        "plt.ylabel('True Positive Rate')\n",
        "plt.xlabel('False Positive Rate')\n",
        "plt.legend('ROC curve for Random Forest',loc='lower right')\n",
        "plt.show()"
      ]
    },
    {
      "cell_type": "markdown",
      "id": "a19d1049-56c5-4dce-97ea-2726f2ede0f2",
      "metadata": {
        "id": "a19d1049-56c5-4dce-97ea-2726f2ede0f2"
      },
      "source": [
        "# k-nearest neighbours"
      ]
    },
    {
      "cell_type": "code",
      "execution_count": null,
      "id": "4397cf3e-d719-4237-8f49-1b197b2c122e",
      "metadata": {
        "id": "4397cf3e-d719-4237-8f49-1b197b2c122e"
      },
      "outputs": [],
      "source": [
        "#knn,naive bayes,comments"
      ]
    },
    {
      "cell_type": "code",
      "execution_count": null,
      "id": "c858cd7c-d084-4505-b0d5-d621cae101a6",
      "metadata": {
        "id": "c858cd7c-d084-4505-b0d5-d621cae101a6"
      },
      "outputs": [],
      "source": [
        "x = app_train.copy()\n",
        "y = x.TARGET\n",
        "x = x.drop(['TARGET'],axis=1)\n",
        "feature_names = x.columns\n",
        "labels = y.unique()\n",
        "from sklearn.impute import SimpleImputer\n",
        "from sklearn.preprocessing import MinMaxScaler\n",
        "imputer = SimpleImputer(missing_values=np.nan, strategy='median')\n",
        "scaler = MinMaxScaler(feature_range = (0, 1))\n",
        "imputer.fit(x)\n",
        "x = imputer.transform(x)\n",
        "scaler.fit(x)\n",
        "x = scaler.transform(x)\n",
        "from sklearn.model_selection import train_test_split\n",
        "x_train,x_test,y_train,y_test = train_test_split(x,y,test_size=0.25,random_state=16)"
      ]
    },
    {
      "cell_type": "code",
      "execution_count": null,
      "id": "e9c8f51c-4fbf-4d64-82fd-a0d3036665e8",
      "metadata": {
        "id": "e9c8f51c-4fbf-4d64-82fd-a0d3036665e8"
      },
      "outputs": [],
      "source": [
        "from sklearn.neighbors import KNeighborsClassifier\n",
        "knn5 = KNeighborsClassifier(n_neighbors = 5)\n",
        "knn1 = KNeighborsClassifier(n_neighbors=1)"
      ]
    },
    {
      "cell_type": "code",
      "execution_count": null,
      "id": "1b3cb8e1-9a62-452c-a19f-ebc1e2e80fe3",
      "metadata": {
        "id": "1b3cb8e1-9a62-452c-a19f-ebc1e2e80fe3"
      },
      "outputs": [],
      "source": [
        "knn5.fit(x_train, y_train)\n",
        "#knn1.fit(x_train, y_train)\n",
        "y_pred_5 = knn5.predict(x_test)\n",
        "#y_pred_1 = knn1.predict(x_test)"
      ]
    },
    {
      "cell_type": "code",
      "execution_count": null,
      "id": "18cf8526-fe74-4d2b-8a9f-3640886d39ca",
      "metadata": {
        "id": "18cf8526-fe74-4d2b-8a9f-3640886d39ca",
        "outputId": "54c13bd8-92bb-4e2b-f134-26a7c22fbd64"
      },
      "outputs": [
        {
          "name": "stdout",
          "output_type": "stream",
          "text": [
            "Accuracy with k=5 0.9156715835479591\n"
          ]
        }
      ],
      "source": [
        "from sklearn.metrics import accuracy_score\n",
        "print(\"Accuracy with k=5\", accuracy_score(y_test, y_pred_5))\n",
        "#print(\"Accuracy with k=1\", accuracy_score(y_test, y_pred_1))"
      ]
    },
    {
      "cell_type": "code",
      "execution_count": null,
      "id": "86c44f36-3c3f-47cb-a7b6-18243a28b593",
      "metadata": {
        "id": "86c44f36-3c3f-47cb-a7b6-18243a28b593"
      },
      "outputs": [],
      "source": [
        "#knn7 = KNeighborsClassifier(n_neighbors = 7)\n",
        "#knn7.fit(x_train, y_train)\n",
        "#y_pred_7 = knn5.predict(x_test)"
      ]
    },
    {
      "cell_type": "code",
      "execution_count": null,
      "id": "9a7aa15a-dba7-4bca-8315-eb3fb562faf6",
      "metadata": {
        "id": "9a7aa15a-dba7-4bca-8315-eb3fb562faf6"
      },
      "outputs": [],
      "source": [
        "#print(\"Accuracy with k=7\", accuracy_score(y_test, y_pred_7))"
      ]
    },
    {
      "cell_type": "code",
      "execution_count": null,
      "id": "26b4e842-46b9-4aa2-88eb-febb272aaf9e",
      "metadata": {
        "id": "26b4e842-46b9-4aa2-88eb-febb272aaf9e",
        "outputId": "e1988389-6071-4023-ae91-a68a79622aa7"
      },
      "outputs": [
        {
          "name": "stdout",
          "output_type": "stream",
          "text": [
            "              precision    recall  f1-score   support\n",
            "\n",
            "   can_repay       0.92      0.99      0.96     70741\n",
            "cannot_repay       0.19      0.02      0.03      6137\n",
            "\n",
            "    accuracy                           0.92     76878\n",
            "   macro avg       0.56      0.51      0.49     76878\n",
            "weighted avg       0.86      0.92      0.88     76878\n",
            "\n"
          ]
        }
      ],
      "source": [
        "from sklearn.metrics import classification_report\n",
        "target_names = ['can_repay', 'cannot_repay']\n",
        "print(classification_report(y_test, y_pred_5, target_names=target_names))"
      ]
    },
    {
      "cell_type": "code",
      "execution_count": null,
      "id": "9c46ebe8-fd22-4bd8-90f6-97e7459abf4c",
      "metadata": {
        "id": "9c46ebe8-fd22-4bd8-90f6-97e7459abf4c",
        "outputId": "23db422e-8f9a-405c-f628-195df8768199"
      },
      "outputs": [
        {
          "data": {
            "text/plain": [
              "array([[70287,   454],\n",
              "       [ 6029,   108]])"
            ]
          },
          "execution_count": 57,
          "metadata": {},
          "output_type": "execute_result"
        }
      ],
      "source": [
        "cnfmx_knn = metrics.confusion_matrix(y_test,y_pred_5)\n",
        "cnfmx_knn"
      ]
    },
    {
      "cell_type": "code",
      "execution_count": null,
      "id": "143b4c18-510c-4bcb-ae2d-2c121f0e73d2",
      "metadata": {
        "id": "143b4c18-510c-4bcb-ae2d-2c121f0e73d2",
        "outputId": "0a3459d9-ba1b-414d-e0d6-8c4acbcf12d6"
      },
      "outputs": [
        {
          "data": {
            "text/plain": [
              "<AxesSubplot: >"
            ]
          },
          "execution_count": 58,
          "metadata": {},
          "output_type": "execute_result"
        },
        {
          "data": {
            "image/png": "[encoded data removed]",
            "text/plain": [
              "<Figure size 432x288 with 2 Axes>"
            ]
          },
          "metadata": {},
          "output_type": "display_data"
        }
      ],
      "source": [
        "sns.heatmap(cnfmx_knn,annot = True, fmt = 'g' )"
      ]
    },
    {
      "cell_type": "code",
      "execution_count": null,
      "id": "84161e75-3591-4825-b046-d26f5eecaf7d",
      "metadata": {
        "id": "84161e75-3591-4825-b046-d26f5eecaf7d",
        "outputId": "377cdb50-b351-4743-97fc-246e2835ec87"
      },
      "outputs": [
        {
          "data": {
            "image/png": "[encoded data removed]",
            "text/plain": [
              "<Figure size 432x288 with 1 Axes>"
            ]
          },
          "metadata": {},
          "output_type": "display_data"
        }
      ],
      "source": [
        "y_pred_proba_knn = knn5.predict_proba(x_test)[::,1]\n",
        "fpr, tpr, _ = metrics.roc_curve(y_test,  y_pred_proba_knn)\n",
        "plt.plot(fpr,tpr)\n",
        "plt.ylabel('True Positive Rate')\n",
        "plt.xlabel('False Positive Rate')\n",
        "plt.legend('ROC curve for KNN',loc='lower center')\n",
        "plt.show()"
      ]
    },
    {
      "cell_type": "markdown",
      "id": "74d05e8c-4484-423e-85b9-dd251b58cfdb",
      "metadata": {
        "id": "74d05e8c-4484-423e-85b9-dd251b58cfdb"
      },
      "source": [
        "# Naive bayes"
      ]
    },
    {
      "cell_type": "code",
      "execution_count": null,
      "id": "e9d525d9-467d-413c-b47e-c89ec4bdb408",
      "metadata": {
        "id": "e9d525d9-467d-413c-b47e-c89ec4bdb408"
      },
      "outputs": [],
      "source": [
        "x = app_train.copy()\n",
        "y = x.TARGET\n",
        "x = x.drop(['TARGET'],axis=1)\n",
        "feature_names = x.columns\n",
        "labels = y.unique()\n",
        "from sklearn.impute import SimpleImputer\n",
        "from sklearn.preprocessing import MinMaxScaler\n",
        "imputer = SimpleImputer(missing_values=np.nan, strategy='median')\n",
        "scaler = MinMaxScaler(feature_range = (0, 1))\n",
        "imputer.fit(x)\n",
        "x = imputer.transform(x)\n",
        "scaler.fit(x)\n",
        "x = scaler.transform(x)\n",
        "from sklearn.model_selection import train_test_split\n",
        "x_train,x_test,y_train,y_test = train_test_split(x,y,test_size=0.25,random_state=16)"
      ]
    },
    {
      "cell_type": "code",
      "execution_count": null,
      "id": "c76aaefe-29f1-4312-9fd9-28e60d3b4e2f",
      "metadata": {
        "id": "c76aaefe-29f1-4312-9fd9-28e60d3b4e2f"
      },
      "outputs": [],
      "source": [
        "from sklearn.naive_bayes import GaussianNB\n",
        "nb = GaussianNB()\n",
        "nb.fit(x_train, y_train)\n",
        "y_pred_nb = nb.predict(x_test)"
      ]
    },
    {
      "cell_type": "code",
      "execution_count": null,
      "id": "313e056e-5c2d-4237-8f8e-d79788386c4a",
      "metadata": {
        "id": "313e056e-5c2d-4237-8f8e-d79788386c4a",
        "outputId": "117c642b-3906-45f3-f3c5-37e4884cb6a5"
      },
      "outputs": [
        {
          "name": "stdout",
          "output_type": "stream",
          "text": [
            "0.16014984781081715\n"
          ]
        }
      ],
      "source": [
        "from sklearn.metrics import accuracy_score\n",
        "print(accuracy_score(y_test, y_pred_nb))"
      ]
    },
    {
      "cell_type": "code",
      "execution_count": null,
      "id": "306544ab-970b-4257-8f4d-d73f4c79a92b",
      "metadata": {
        "id": "306544ab-970b-4257-8f4d-d73f4c79a92b",
        "outputId": "5ba25262-20ff-4d8a-ddc7-a2455d09b3ce"
      },
      "outputs": [
        {
          "name": "stdout",
          "output_type": "stream",
          "text": [
            "              precision    recall  f1-score   support\n",
            "\n",
            "   can_repay       0.95      0.09      0.17     70741\n",
            "cannot_repay       0.08      0.95      0.15      6137\n",
            "\n",
            "    accuracy                           0.16     76878\n",
            "   macro avg       0.52      0.52      0.16     76878\n",
            "weighted avg       0.88      0.16      0.17     76878\n",
            "\n"
          ]
        }
      ],
      "source": [
        "from sklearn.metrics import classification_report\n",
        "target_names = ['can_repay', 'cannot_repay']\n",
        "print(classification_report(y_test, y_pred_nb, target_names=target_names))"
      ]
    },
    {
      "cell_type": "code",
      "execution_count": null,
      "id": "7f8e257f-f1ef-4bae-9a07-f321e450d0c9",
      "metadata": {
        "id": "7f8e257f-f1ef-4bae-9a07-f321e450d0c9",
        "outputId": "fc5f1419-7f18-4ba9-ec4d-ef4d4eb5ec21"
      },
      "outputs": [
        {
          "data": {
            "text/plain": [
              "array([[ 6485, 64256],\n",
              "       [  310,  5827]])"
            ]
          },
          "execution_count": 65,
          "metadata": {},
          "output_type": "execute_result"
        }
      ],
      "source": [
        "cnfmx_nb = metrics.confusion_matrix(y_test,y_pred_nb)\n",
        "cnfmx_nb"
      ]
    },
    {
      "cell_type": "code",
      "execution_count": null,
      "id": "021076d7-3093-4652-b641-2887e881ce5e",
      "metadata": {
        "id": "021076d7-3093-4652-b641-2887e881ce5e",
        "outputId": "d2cfb6b7-7129-441f-88cf-ab538eead20d"
      },
      "outputs": [
        {
          "data": {
            "text/plain": [
              "<AxesSubplot: >"
            ]
          },
          "execution_count": 66,
          "metadata": {},
          "output_type": "execute_result"
        },
        {
          "data": {
            "image/png": "[encoded data removed]",
            "text/plain": [
              "<Figure size 432x288 with 2 Axes>"
            ]
          },
          "metadata": {},
          "output_type": "display_data"
        }
      ],
      "source": [
        "sns.heatmap(cnfmx_nb,annot = True, fmt = 'g' )"
      ]
    },
    {
      "cell_type": "code",
      "execution_count": null,
      "id": "597930b6-bb00-4bc4-8bdf-074d7618e482",
      "metadata": {
        "id": "597930b6-bb00-4bc4-8bdf-074d7618e482",
        "outputId": "6613218a-d3aa-4cb5-9a2d-c3792d509496"
      },
      "outputs": [
        {
          "data": {
            "image/png": "[encoded data removed]",
            "text/plain": [
              "<Figure size 432x288 with 1 Axes>"
            ]
          },
          "metadata": {},
          "output_type": "display_data"
        }
      ],
      "source": [
        "y_pred_proba_nb = nb.predict_proba(x_test)[::,1]\n",
        "fpr, tpr, _ = metrics.roc_curve(y_test,  y_pred_proba_nb)\n",
        "plt.plot(fpr,tpr)\n",
        "plt.ylabel('True Positive Rate')\n",
        "plt.xlabel('False Positive Rate')\n",
        "plt.legend('ROC curve for GaussianNB')\n",
        "plt.show()"
      ]
    },
    {
      "cell_type": "markdown",
      "source": [
        "## Model 1 (Logistic Regression):\n",
        "\n",
        "Precision: 0.43 for positive class\n",
        "\n",
        "Recall: 0.01 for positive class\n",
        "\n",
        "F1-score: 0.02 for positive class\n",
        "\n",
        "# Accuracy: 92%\n",
        "\n",
        "## Model 2 (Decision Tree Classifier):\n",
        "\n",
        "Precision: 0.15 for positive class\n",
        "\n",
        "Recall: 0.17 for positive class\n",
        "\n",
        "F1-score: 0.16 for positive class\n",
        "\n",
        "Accuracy: 85%\n",
        "\n",
        "## Model 3 (Random Forest ):\n",
        "\n",
        "Precision: 0.70 for positive class\n",
        "\n",
        "Recall: 0.00 for positive class\n",
        "\n",
        "F1-score: 0.00 for positive class\n",
        "\n",
        "Accuracy: 92%\n",
        "\n",
        "## Model 4 (K-Nearest Neighbors):\n",
        "\n",
        "Precision: 0.19 for positive class\n",
        "\n",
        "Recall: 0.02 for positive class\n",
        "\n",
        "F1-score: 0.03 for positive class\n",
        "\n",
        "Accuracy: 92%\n",
        "\n",
        "## Model 5 (Naive Bayes):\n",
        "\n",
        "Precision: 0.08 for positive class\n",
        "\n",
        "Recall: 0.95 for positive class\n",
        "\n",
        "F1-score: 0.15 for positive class\n",
        "\n",
        "Accuracy: 16%\n",
        "\n",
        "# Conclusion:\n",
        "\n",
        "The models exhibit varied performance across different metrics. The Gaussian Naive Bayes, Support Vector Machine, and K-Nearest Neighbors models show high accuracy rates but are substantially weak in handling the positive class with very low recall rates. The Decision Tree Classifier and Random Forest demonstrate more balanced precision and recall for the positive class, but their overall accuracy is lower, particularly for the Random Forest which drastically fails in overall accuracy but excels in positive class recall.\n",
        "\n",
        "This range of outcomes suggests a need for model tuning, possibly balancing the class weight or exploring feature engineering to enhance model sensitivity and specificity. Deciding on the best model would depend on the specific requirements of recall or precision prioritization in the context of the application."
      ],
      "metadata": {
        "id": "nRI8AyQHFnrJ"
      },
      "id": "nRI8AyQHFnrJ"
    },
    {
      "cell_type": "markdown",
      "source": [
        "# References\n",
        "\"Hands-On Machine Learning with Scikit-Learn, Keras, and TensorFlow\" by Aurélien Géron\n",
        "\n",
        "Great for understanding how to apply machine learning methods in practice, including data preprocessing and model evaluation.\n",
        "\n",
        "\"Python for Data Analysis\" by Wes McKinney\n",
        "This book is ideal for mastering data manipulation with pandas, which is crucial for data cleaning and feature engineering.\n",
        "\n",
        "Coursera: Machine Learning by Andrew Ng\n",
        "A well-rounded course that covers machine learning fundamentals, ideal for understanding the theory behind algorithms used in the notebook.\n",
        "\n",
        "DataCamp: Feature Engineering for Machine Learning in Python\n",
        "This course specifically focuses on creating and transforming features to improve machine learning models."
      ],
      "metadata": {
        "id": "JrbTS9D-prfH"
      },
      "id": "JrbTS9D-prfH"
    },
    {
      "cell_type": "markdown",
      "source": [
        "# MIT License\n",
        "\n",
        "Copyright (c) 2024 Sumanth Mereddi and AISkunks\n",
        "\n",
        "Permission is hereby granted, free of charge, to any person obtaining a copy of this software and associated documentation files (the \"Software\"), to deal in the Software without restriction, including without limitation the rights to use, copy, modify, merge, publish, distribute, sublicense, and/or sell copies of the Software, and to permit persons to whom the Software is furnished to do so, subject to the following conditions:\n",
        "\n",
        "The above copyright notice and this permission notice shall be included in all copies or substantial portions of the Software.\n",
        "\n",
        "THE SOFTWARE IS PROVIDED \"AS IS\", WITHOUT WARRANTY OF ANY KIND, EXPRESS OR IMPLIED, INCLUDING BUT NOT LIMITED TO THE WARRANTIES OF MERCHANTABILITY, FITNESS FOR A PARTICULAR PURPOSE AND NONINFRINGEMENT. IN NO EVENT SHALL THE AUTHORS OR COPYRIGHT HOLDERS BE LIABLE FOR ANY CLAIM, DAMAGES OR OTHER LIABILITY, WHETHER IN AN ACTION OF CONTRACT, TORT OR OTHERWISE, ARISING FROM, OUT OF OR IN CONNECTION WITH THE SOFTWARE OR THE USE OR OTHER DEALINGS IN THE SOFTWARE.\n",
        "\n",
        "\n",
        "Copyright (c) 2024 Nagapriyatham Pindi and AISkunks\n",
        "\n",
        "Permission is hereby granted, free of charge, to any person obtaining a copy of this software and associated documentation files (the \"Software\"), to deal in the Software without restriction, including without limitation the rights to use, copy, modify, merge, publish, distribute, sublicense, and/or sell copies of the Software, and to permit persons to whom the Software is furnished to do so, subject to the following conditions:\n",
        "\n",
        "The above copyright notice and this permission notice shall be included in all copies or substantial portions of the Software.\n",
        "\n",
        "THE SOFTWARE IS PROVIDED \"AS IS\", WITHOUT WARRANTY OF ANY KIND, EXPRESS OR IMPLIED, INCLUDING BUT NOT LIMITED TO THE WARRANTIES OF MERCHANTABILITY, FITNESS FOR A PARTICULAR PURPOSE AND NONINFRINGEMENT. IN NO EVENT SHALL THE AUTHORS OR COPYRIGHT HOLDERS BE LIABLE FOR ANY CLAIM, DAMAGES OR OTHER LIABILITY, WHETHER IN AN ACTION OF CONTRACT, TORT OR OTHERWISE, ARISING FROM, OUT OF OR IN CONNECTION WITH THE SOFTWARE OR THE USE OR OTHER DEALINGS IN THE SOFTWARE."
      ],
      "metadata": {
        "id": "qjegl4THoh-9"
      },
      "id": "qjegl4THoh-9"
    },
    {
      "cell_type": "markdown",
      "source": [],
      "metadata": {
        "id": "1ko0imd8ox2U"
      },
      "id": "1ko0imd8ox2U"
    }
  ],
  "metadata": {
    "kernelspec": {
      "display_name": "Python 3 (ipykernel)",
      "language": "python",
      "name": "python3"
    },
    "language_info": {
      "codemirror_mode": {
        "name": "ipython",
        "version": 3
      },
      "file_extension": ".py",
      "mimetype": "text/x-python",
      "name": "python",
      "nbconvert_exporter": "python",
      "pygments_lexer": "ipython3",
      "version": "3.11.5"
    },
    "colab": {
      "provenance": []
    }
  },
  "nbformat": 4,
  "nbformat_minor": 5
}